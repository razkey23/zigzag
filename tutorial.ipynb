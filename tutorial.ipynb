{
 "cells": [
  {
   "cell_type": "code",
   "execution_count": 1,
   "id": "34ab498f-1564-418a-a534-63aeaaa49086",
   "metadata": {},
   "outputs": [],
   "source": [
    "from typing import Any\n",
    "from zigzag.hardware.architecture.Accelerator import Accelerator\n",
    "from zigzag.parser.accelerator_factory import AcceleratorFactory\n",
    "from zigzag.parser.AcceleratorValidator import AcceleratorValidator\n",
    "from zigzag.utils import open_yaml"
   ]
  },
  {
   "cell_type": "markdown",
   "id": "48d060a8-28ee-4ae2-9670-65413630a60b",
   "metadata": {},
   "source": [
    "# Theoretical Part\n",
    "Here is the theoretical part of what you need to do. Read it carefully along with this [ZigZag - Paper](https://ieeexplore-ieee-org.tudelft.idm.oclc.org/document/9360462)\n"
   ]
  },
  {
   "cell_type": "markdown",
   "id": "c79d1c6b-7dd3-4fe6-98d4-1a285981ddd9",
   "metadata": {},
   "source": [
    "## Step-1 - Design Definition \n",
    "\n",
    "We need to define Asmae's accelerator design into the given yaml file. inputs/hardware/asmaeDesign.yaml . What we need to define\n",
    "1. Cells - Need to be careful here because you cannot define 1-bit cell. You need to use 4 or 8 and change the number of columns (instead of 128, use 128/4, or 128/8 since bits are unrolled over columns)\n",
    "    ```yaml\n",
    "      cells:\n",
    "        size: 8\n",
    "        r_bw: 8\n",
    "        w_bw: 8\n",
    "        r_cost: 0\n",
    "        w_cost: 0.095\n",
    "        area: 0\n",
    "        r_port: 1\n",
    "        w_port: 1\n",
    "        rw_port: 0\n",
    "        latency: 0\n",
    "        auto_cost_extraction: True\n",
    "        operands: [I2]\n",
    "        ports:\n",
    "          - fh: w_port_1\n",
    "            tl: r_port_1\n",
    "        served_dimensions: [] # Fully unrolled over all multipliers\n",
    "    ```\n",
    "    \n",
    "2. Size of Operational Array 128x128 (or 16x128x8 since we have 8 banks). \n",
    "```yaml\n",
    "    operational_array:\n",
    "      is_imc: True\n",
    "      imc_type: digital # it won't matter that much because you are going to overwrite the functions built in zigzag\n",
    "      input_precision: [8, 8] # unit: bit, first value is for inputs and second value here is for weight-precision\n",
    "      bit_serial_precision: 1 # unit: bit, Asmae's design has 1-bit serial precision\n",
    "      adc_resolution: 3 # unit: bit\n",
    "      dimensions: [D1, D2, D3] # Example\n",
    "      sizes: [32, 32, 8] # [COLUMNS,ROWS,BANKS] -> change accordingly\n",
    "\n",
    "```\n",
    "\n",
    "3. You should also need to define buffers per row and buffer per column for the data transfer (you could keep it standard to 1Bytes and 16Bytes)\n",
    "4. And another layer in memory Hierarchy, just use DRAM (no need for SRAM as well).  "
   ]
  },
  {
   "cell_type": "markdown",
   "id": "d78892d1-340c-4221-903b-cbd92e92c28c",
   "metadata": {},
   "source": [
    "Important Notes :\n",
    "We have integrated the broad scope of the structure of Asmae's design into ZigZag. However, there are a few key parameters that are different in terms of how ZigZag performs energy/area/latency calculation. (Since you have figured out the differences in the area estimation, I won't focus on that). ZigZag uses adder trees for accumulation, but Asmae does not. \n",
    "You need to find the places where ZigZag uses Adder-trees related functions when it comes to **energy** and **latency** calculation. We have the following\n",
    "* Peak Energy Consumption (*get_peak_energy_single_cycle(self)*),  Peak Macro Level Performance (* get_macro_level_peak_performance(self) *)   if your design is fully utilized)  **IMPORTANT: THIS IS NOT DEPENDED ON A WORKLOAD - similar to how area is not depended on a workload**\n",
    "* Layer Energy Consumption (Energy and latency is depended on the Workload you are  going to run. Running multiple convolutional kernels and running a simple MLP are not going to yield the same results energy-wise. To find the energy-per-layer you will need to change *get_energy_for_a_layer(self, layer: LayerNode, mapping: Mapping)*\n",
    "\n",
    "\n",
    "\n",
    "\n",
    "\n",
    "\n",
    "\n",
    "\n",
    "Here is an image of Asmae's Design\n",
    "![Asmae's Design](https://i.imgur.com/FE4d7bg.jpeg)"
   ]
  },
  {
   "cell_type": "markdown",
   "id": "8c42a7af-3298-4cb7-ace9-3bb451466a80",
   "metadata": {},
   "source": [
    "## Step 2 - Workloads & Mapping\n",
    "The second part that is important to understand is that mapping plays an important role in Energy/Latency (but not area) of a macro. To create a cost-model in ZigZag we need to define two types of mapping Spatial and Temporal. Spatial refers to where each operand resides (in which part of the memory hierachy) during computation. And temporal refers to the way the nested for-loops are executed. \n",
    "All 2D convolutions can be written as 7 nested for-loops. How you execute them temporally and spatially is important. For instance, are you going to use loop unrolling for some specific loops? Are you going to tile any of the loops? Are you going to reorder them? All these can be defined via spatial and temporal mapping in ZigZag\n",
    "\n",
    "\n",
    "To clear things out here is the example of ZigZag paper :\n",
    "![ZigZag-Workloads](https://i.imgur.com/VFsZEti.png)\n",
    "\n",
    "[ZigZag - Reference](https://ieeexplore-ieee-org.tudelft.idm.oclc.org/document/9360462)\n"
   ]
  },
  {
   "cell_type": "markdown",
   "id": "c90a2c09-1d13-44c7-b3a7-f0d20d29628b",
   "metadata": {},
   "source": [
    "### Workload Example - Simple CNN"
   ]
  },
  {
   "cell_type": "markdown",
   "id": "ef6a2032-ac5f-45fb-9560-0c101a44a5d9",
   "metadata": {},
   "source": [
    "Let's go through an example that is going to help you understand. Let's define a filter with 9 kernels (K) operating on 3-Channel Input of size 64x64. (We will keep stride and dilation = 1 for simplicity). So we assume that we have batch-size = 1. let's write the aforementioned for loop with our use-case values\n",
    "```python\n",
    "for b=0 to 0 # B=1\n",
    "    for k=0 to 8 # K=9\n",
    "        for c=0 to 2 # C=3\n",
    "            for oy=0 to 62 # OY=62 (ROW OF OUTPUT), applying a 3x3 conv kernel to a 64x64 will result in a 62x62 image\n",
    "                for ox=0 to 62 # OX=62 (COLUMN OF OUTPUT) , applying a 3x3 conv kernel to a 64x64 will result in a 62x62 image\n",
    "                    for fy=0 to 2 # FY=3 Kernel row\n",
    "                        for fx=0 to 2 # FX=3 kernel column\n",
    "                            Output[b][k][oy][ox] += Input[b][c][oy+fy][ox+fx] * W[k][c][fy][fx]\n",
    "```\n",
    "\n"
   ]
  },
  {
   "cell_type": "markdown",
   "id": "8a39f7de-498c-4327-a4f5-df94d5b57216",
   "metadata": {},
   "source": [
    "To create a simple-cnn model like this you could run the following piece of code (either in colab or locally if you have torch and onnx installed)\n",
    "\n",
    "```python\n",
    "import torch\n",
    "import torch.nn as nn\n",
    "import onnx\n",
    "\n",
    "class SimpleConvNet(nn.Module):\n",
    "    def __init__(self):\n",
    "        super(SimpleConvNet, self).__init__()\n",
    "        self.conv1 = nn.Conv2d(in_channels=3, out_channels=9, kernel_size=3, stride=1, padding=0)  # padding to keep output size same as input size\n",
    "\n",
    "    def forward(self, x):\n",
    "        return self.conv1(x)\n",
    "\n",
    "# Instantiate the model and set it to evaluation mode\n",
    "model = SimpleConvNet()\n",
    "model.eval()\n",
    "\n",
    "# Create a dummy input tensor of size (1, 3, 64, 64) - batch size 1, 3 channels, 64x64 image\n",
    "dummy_input = torch.randn(1, 3, 64, 64)\n",
    "\n",
    "# Export the model to an ONNX file\n",
    "onnx_file_path = \"simple_conv_net.onnx\"\n",
    "torch.onnx.export(model, dummy_input, onnx_file_path, verbose=True, input_names=['input'], output_names=['output'])\n",
    "\n",
    "print(f\"Model exported to {onnx_file_path}\")\n",
    "```"
   ]
  },
  {
   "cell_type": "markdown",
   "id": "6db22bc7-567a-41a2-9aca-65178a7e042c",
   "metadata": {},
   "source": [
    "### ZigZag specific workload mapping"
   ]
  },
  {
   "cell_type": "markdown",
   "id": "023f3bbd-cd3b-4b7c-bedf-95e611fd721f",
   "metadata": {},
   "source": [
    "Assuming that you have a simple (or a more complex workload) you should now map it into your hardware. You need Spatial and Temporal Mapping.\n",
    "You can define both in mapping.yaml or you can use the Mapping Generators of ZigZag itself. I would suggest mapping the workload spatially yourself and use LOMA (temporal mapping engine) for temporal mapping. "
   ]
  },
  {
   "cell_type": "markdown",
   "id": "7b312f99-32e1-4870-a18b-9233d89da7dc",
   "metadata": {},
   "source": [
    "Example of yaml file with define spatial mapping \n",
    "```yaml\n",
    "- name: default\n",
    "  core_allocation: [1]\n",
    "  memory_operand_links:\n",
    "    O: O\n",
    "    W: I2\n",
    "    I: I1\n",
    "  spatial_mapping:\n",
    "    D1:\n",
    "      - K, 3\n",
    "    D3: \n",
    "      - C, 3\n",
    "```\n",
    "\n",
    "\n",
    "This mapping does the following : \n",
    "1. Unrolls 3 Kernels over D1 dimension / column dimension (we have 9 kernels in total)\n",
    "2. Unrolls 3 Channels over D3 dimension / memory bank (we have 3 channels in total)\n",
    "\n",
    "Here you need to be careful with your Spatial Mapping in order to be sure that your data fits into the operational array. \n",
    "\n",
    "\n",
    "You could also define in your mapping.yaml file temporal mapping as well. \n",
    "```yaml\n",
    "temporal_ordering:\n",
    "    - [OX,62] # Innermost loop\n",
    "    - [OY, 62]\n",
    "    - [FX, 3]\n",
    "    - [FY, 3]\n",
    "    - [K, 3] # Outermost loop\n",
    "```\n",
    "\n",
    "Or you can use LOMAEngine and allow it to generate a temporal mapping for you"
   ]
  },
  {
   "cell_type": "markdown",
   "id": "75fbfa7c-8649-4478-992e-589afe168c8a",
   "metadata": {},
   "source": [
    "## Cost-Model \n",
    "Now assuming that you have done all the things above\n",
    "\n",
    "1. Defined your accelerator + changed the source code so that when we run ZigZag, we get results for Asmae's digital periphery\n",
    "2. Defined your workload along with a temporal and spatial mapping\n",
    "You can now run a cost model which will give you results regarding the whole workload execution.\n",
    "\n",
    "Here you will not need to change much"
   ]
  },
  {
   "cell_type": "markdown",
   "id": "c5d7b08f-215f-4f24-9130-e6780029333a",
   "metadata": {},
   "source": [
    "# Hands-on Example \n",
    "Here is an example of using ZigZag from a notebook (decoupling it from its main functions)"
   ]
  },
  {
   "cell_type": "markdown",
   "id": "ab43104b-8d85-4408-ae2e-cf451b218265",
   "metadata": {},
   "source": [
    "## Imports and Utility Functions"
   ]
  },
  {
   "cell_type": "code",
   "execution_count": 1,
   "id": "e79e2834-e8ad-4f6d-bc87-6e0c65ddedf4",
   "metadata": {},
   "outputs": [],
   "source": [
    "from typing import Any\n",
    "from zigzag.hardware.architecture.Accelerator import Accelerator\n",
    "from zigzag.parser.accelerator_factory import AcceleratorFactory\n",
    "from zigzag.parser.AcceleratorValidator import AcceleratorValidator\n",
    "from zigzag.utils import open_yaml"
   ]
  },
  {
   "cell_type": "code",
   "execution_count": 2,
   "id": "929cf5c3-7a1a-4eeb-b649-6a5e35a808cc",
   "metadata": {},
   "outputs": [],
   "source": [
    "# Utility functions\n",
    "def print_attributes(obj):\n",
    "    for attribute in dir(obj):\n",
    "        # Filter out methods and built-in properties\n",
    "        if not attribute.startswith('__') and not callable(getattr(obj, attribute)):\n",
    "            print(f\"{attribute}: {getattr(obj, attribute)}\")"
   ]
  },
  {
   "cell_type": "markdown",
   "id": "4745783d-bf0f-47b8-ba54-f11606223f8f",
   "metadata": {},
   "source": [
    "## Parse Accelerator"
   ]
  },
  {
   "cell_type": "code",
   "execution_count": 3,
   "id": "37ba163e-2525-4d29-881b-3b5e183b2583",
   "metadata": {},
   "outputs": [],
   "source": [
    "%%capture\n",
    "ACCELERATOR_PATH = 'zigzag/inputs/hardware/dimc_asmae.yaml'\n",
    "\n",
    "def parse_accelerator(accelerator_yaml_path: str) -> Accelerator:\n",
    "        accelerator_data = open_yaml(accelerator_yaml_path)\n",
    "\n",
    "        validator = AcceleratorValidator(accelerator_data)\n",
    "        accelerator_data = validator.normalized_data\n",
    "        validate_success = validator.validate()\n",
    "        if not validate_success:\n",
    "            raise ValueError(\"Failed to validate user provided accelerator.\")\n",
    "\n",
    "        #breakpoint()\n",
    "        print(accelerator_data)\n",
    "        factory = AcceleratorFactory(accelerator_data)\n",
    "        return factory.create()\n",
    "\n",
    "\n",
    "accelerator = parse_accelerator(ACCELERATOR_PATH)"
   ]
  },
  {
   "cell_type": "code",
   "execution_count": 4,
   "id": "051a5ae1-ffd7-4785-9d52-1c645db55635",
   "metadata": {},
   "outputs": [
    {
     "name": "stdout",
     "output_type": "stream",
     "text": [
      "dataflows: None\n",
      "id: 1\n",
      "mem_hierarchy_dict: {I2: [MemoryLevel(instance=cells,operands=[I2], served_dimensions=set()), MemoryLevel(instance=dram,operands=[I1, I2, O], served_dimensions={D2, D1})], I1: [MemoryLevel(instance=rf_1B,operands=[I1], served_dimensions={D1}), MemoryLevel(instance=dram,operands=[I1, I2, O], served_dimensions={D2, D1})], O: [MemoryLevel(instance=rf_2B,operands=[O], served_dimensions={D2}), MemoryLevel(instance=dram,operands=[I1, I2, O], served_dimensions={D2, D1})]}\n",
      "mem_r_bw_dict: {I2: [8, 524288], I1: [8, 524288], O: [16, 524288]}\n",
      "mem_r_bw_min_dict: {I2: [8, 524288], I1: [8, 524288], O: [16, 524288]}\n",
      "mem_sharing_list: [{I1: 1, I2: 1, O: 1}]\n",
      "mem_size_dict: {I2: [8, 8589934592], I1: [8, 8589934592], O: [16, 8589934592]}\n",
      "mem_w_bw_dict: {I2: [8, 524288], I1: [8, 524288], O: [16, 524288]}\n",
      "mem_w_bw_min_dict: {I2: [8, 524288], I1: [8, 524288], O: [16, 524288]}\n",
      "memory_hierarchy: MemoryHierarchy named 'Memory Hierarchy' with 4 nodes and 3 edges\n",
      "operational_array: <zigzag.hardware.architecture._ImcArray._ImcArray object at 0x7f777ef68810>\n",
      "\n",
      " Operational Array Attributes \n",
      "\n",
      "TECH_PARAM_28NM: {'tech_node': 0.028, 'vdd': 0.9, 'nd2_cap': 0.0007, 'wl_cap': 0.00035, 'bl_cap': 0.00035, 'xor2_cap': 0.0010499999999999997, 'dff_cap': 0.0020999999999999994, 'nd2_area': 6.14e-07, 'xor2_area': 1.4736e-06, 'dff_area': 3.6840000000000002e-06, 'nd2_dly': 0.0478, 'xor2_dly': 0.11472}\n",
      "_abc_impl: <_abc._abc_data object at 0x7f77af62d0c0>\n",
      "activation_precision: 8\n",
      "adc: <zigzag.hardware.architecture.macro.Adc.Adc object at 0x7f777ef44310>\n",
      "adc_resolution: 0\n",
      "adder: <zigzag.hardware.architecture.macro.Adder.Adder object at 0x7f77ac1a1cd0>\n",
      "area: 0.4965372736\n",
      "area_breakdown: {'cells': 0.3844808, 'dacs': 0, 'adcs': 0, 'mults': 0.010059776, 'adders_regular': 0.0803053056, 'adders_pv': 0.0, 'accumulators': 0.021691391999999997}\n",
      "auto_cost_extraction: True\n",
      "bit_serial_precision: 1\n",
      "bitline_dim_size: 16\n",
      "bl_dim: D2\n",
      "cell: <zigzag.hardware.architecture.macro.Cell.Cell object at 0x7f777ef61e90>\n",
      "cells_area: 0\n",
      "cells_size: 8\n",
      "cells_w_cost: 0.37556055\n",
      "dac: <zigzag.hardware.architecture.macro.Dac.Dac object at 0x7f77adbc7a50>\n",
      "delay: None\n",
      "delay_breakdown: None\n",
      "dimension_sizes: {D1: 16, D2: 16, D3: 8}\n",
      "energy: None\n",
      "energy_breakdown: None\n",
      "is_aimc: False\n",
      "mapped_group_depth: None\n",
      "mapped_rows_total_per_macro: None\n",
      "nb_of_banks: 8\n",
      "reg: <zigzag.hardware.architecture.macro.Reg.Reg object at 0x7f777ef627d0>\n",
      "tclk: 2.7819600000000007\n",
      "tclk_breakdown: {'cells': 0, 'dacs': 0, 'adcs': 0, 'mults': 0.0478, 'adders_regular': 1.8546400000000003, 'adders_pv': 0, 'accumulators': 0.8795200000000001}\n",
      "tech_param: {'tech_node': 0.028, 'vdd': 0.9, 'nd2_cap': 0.0007, 'wl_cap': 0.00035, 'bl_cap': 0.00035, 'xor2_cap': 0.0010499999999999997, 'dff_cap': 0.0020999999999999994, 'nd2_area': 6.14e-07, 'xor2_area': 1.4736e-06, 'dff_area': 3.6840000000000002e-06, 'nd2_dly': 0.0478, 'xor2_dly': 0.11472}\n",
      "tops_peak: 0.18404290500222859\n",
      "topsmm2_peak: 0.3706527481167299\n",
      "topsw_peak: 6.849197787709116\n",
      "total_unit_count: 2048\n",
      "weight_precision: 8\n",
      "wl_dim: D1\n",
      "wordline_dim_size: 16\n"
     ]
    },
    {
     "data": {
      "text/plain": [
       "(None, None, None)"
      ]
     },
     "execution_count": 4,
     "metadata": {},
     "output_type": "execute_result"
    }
   ],
   "source": [
    "print_attributes(accelerator.cores[0]) , print(\"\\n Operational Array Attributes \\n\"), print_attributes(accelerator.cores[0].operational_array)"
   ]
  },
  {
   "cell_type": "markdown",
   "id": "bc2c93a6-56e4-40b0-97f3-b73b8ea854bf",
   "metadata": {},
   "source": [
    "## Workload Spatial/Temporal Mapping\n"
   ]
  },
  {
   "cell_type": "code",
   "execution_count": 5,
   "id": "fdde3746-5994-4b2f-bcb9-04e95752085f",
   "metadata": {},
   "outputs": [],
   "source": [
    "from zigzag.parser.onnx.ONNXModelParser import ONNXModelParser\n",
    "WORKLOAD_PATH = 'zigzag/inputs/workload/simple_conv_net.onnx'\n",
    "MAPPING_PATH = 'zigzag/inputs/mapping/dimc_asmae.yaml'\n",
    "\n",
    "'''\n",
    "This is the mapping we use \n",
    "- name: default\n",
    "  core_allocation: [1]\n",
    "  memory_operand_links:\n",
    "    O: O\n",
    "    W: I2\n",
    "    I: I1\n",
    "  \n",
    "  spatial_mapping:\n",
    "    D1:\n",
    "      - FX, 3\n",
    "      - FY, 3\n",
    "      \n",
    "    D3: \n",
    "      - K, 3\n",
    "'''\n",
    "\n",
    "\n",
    "onnx_model_parser=ONNXModelParser(WORKLOAD_PATH, MAPPING_PATH)\n",
    "\n",
    "workload = onnx_model_parser.run()\n",
    "onnx_model = onnx_model_parser.onnx_model"
   ]
  },
  {
   "cell_type": "code",
   "execution_count": 6,
   "id": "48ae5797-77e1-4c41-a711-799e4cb89740",
   "metadata": {},
   "outputs": [],
   "source": [
    "for layer in workload.topological_sort():\n",
    "    core_id: int = layer.core_allocation[0]\n",
    "    core = accelerator.get_core(core_id)\n",
    "    operational_array = core.operational_array\n",
    "    layer.spatial_mapping.oa_dim_sizes = operational_array.dimension_sizes"
   ]
  },
  {
   "cell_type": "code",
   "execution_count": 7,
   "id": "f0c081cf-f6b5-46e4-b96d-7d5b6da43c5c",
   "metadata": {},
   "outputs": [
    {
     "name": "stdout",
     "output_type": "stream",
     "text": [
      "_abc_impl: <_abc._abc_data object at 0x7f777eef3600>\n",
      "constant_operands: [W]\n",
      "core_allocation: [1]\n",
      "core_allocation_is_fixed: False\n",
      "dimension_relations: [IX = 1*OX + 1*FX, IY = 1*OY + 1*FY]\n",
      "equation: O[b][g][k][oy][ox] = W[g][k][c][fy][fx] * I[b][g][c][iy][ix]\n",
      "id: 0\n",
      "input_operand_source: {}\n",
      "input_operands: [W, I]\n",
      "layer_dim_sizes: {B: 1, K: 9, G: 1, OX: 62, OY: 62, C: 3, FX: 3, FY: 3}\n",
      "layer_dims: [B, K, G, OX, OY, C, FX, FY]\n",
      "layer_operands: [O, W, I]\n",
      "loop_relevancy_info: <zigzag.workload.layer_node.LoopRelevancyInfo object at 0x7f777ecd2010>\n",
      "memory_operand_links: {'O': 'O', 'W': 'I2', 'I': 'I1'}\n",
      "name: /conv1/Conv\n",
      "operand_data_reuse: {O: 27.0, W: 3844.0, I: 76.0166015625}\n",
      "operand_precision: {O: 16, O_final: 8, W: 8, I: 8}\n",
      "operand_size_bit: {O: 553536, W: 1944, I: 98304}\n",
      "operand_size_elem: {O: 34596, W: 243, I: 12288}\n",
      "output_operand: O\n",
      "padding: {IX: (0, 0), IY: (0, 0)}\n",
      "pr_decoupled_relevancy_info: <zigzag.workload.layer_node.LoopRelevancyInfo object at 0x7f777ed610d0>\n",
      "pr_layer_dim_sizes: {IX: 64, IY: 64}\n",
      "pr_loop: {IX: [OX, FX], IY: [OY, FY]}\n",
      "pr_scaling_factors: {IX: {OX: 1, FX: 1}, IY: {OY: 1, FY: 1}}\n",
      "spatial_mapping: {D1: {K: 3}, D3: {C: 3}}\n",
      "spatial_mapping_hint: {}\n",
      "temporal_ordering: []\n",
      "total_mac_count: 934092\n",
      "type: Conv\n"
     ]
    }
   ],
   "source": [
    "# Layer Instance Attributes\n",
    "print_attributes(layer)"
   ]
  },
  {
   "cell_type": "code",
   "execution_count": 8,
   "id": "37e57593-7f30-4503-9854-6ecc3a5fcfa9",
   "metadata": {},
   "outputs": [
    {
     "name": "stdout",
     "output_type": "stream",
     "text": [
      "Layer's defined spatial mapping {D1: {K: 3}, D3: {C: 3}}\n"
     ]
    }
   ],
   "source": [
    "# See the spatial mapping - This mapping means that we unroll K over columns (D1) and Channels over memory banks (D3)\n",
    "print(\"Layer's defined spatial mapping\", layer.spatial_mapping)"
   ]
  },
  {
   "cell_type": "code",
   "execution_count": 9,
   "id": "2df03f77-2682-4ded-8176-de08801a43a3",
   "metadata": {},
   "outputs": [],
   "source": [
    "# We need to convert the spatial mapping into another format for ZigZag\n",
    "from zigzag.runutils.SpatialMappingConversion import SpatialMappingConversion\n",
    "import copy\n",
    "\n",
    "#spatial_mapping_conversion = SpatialMappingConversion(accelerator=accelerator, layer=copy.copy(layer))\n",
    "spatial_mapping_conversion = SpatialMappingConversion(accelerator=accelerator, layer=copy.copy(layer))\n",
    "spatial_mapping,spatial_mapping_internal = spatial_mapping_conversion.run() "
   ]
  },
  {
   "cell_type": "code",
   "execution_count": 10,
   "id": "ec7cad98-a86c-4976-9087-66c222a39fd8",
   "metadata": {},
   "outputs": [],
   "source": [
    "# Temporal mapping generations\n",
    "from zigzag.opt.loma.LomaEngine import LomaEngine\n",
    "\n",
    "engine = LomaEngine(\n",
    "            accelerator=accelerator,\n",
    "            layer=copy.copy(layer),\n",
    "            spatial_mapping=spatial_mapping,\n",
    "            loma_lpf_limit=6)\n",
    "temporal_mappings = [x for x in engine.run()]"
   ]
  },
  {
   "cell_type": "code",
   "execution_count": 11,
   "id": "220aec6d-f192-452f-ae2c-f511e7c47c41",
   "metadata": {},
   "outputs": [
    {
     "data": {
      "text/plain": [
       "720"
      ]
     },
     "execution_count": 11,
     "metadata": {},
     "output_type": "execute_result"
    }
   ],
   "source": [
    "# Loma Generated 720 different temporal mappings. Some are better than others - You probably have to check for yourself\n",
    "len(temporal_mappings)"
   ]
  },
  {
   "cell_type": "code",
   "execution_count": 12,
   "id": "d00fdfbd-bb37-4a1a-9e17-df7ef40db37c",
   "metadata": {},
   "outputs": [],
   "source": [
    "# We will use the first one of the generated mappings for the Cost Model\n",
    "temporal_mapping = temporal_mappings[0]"
   ]
  },
  {
   "cell_type": "markdown",
   "id": "e6af485a-d9d1-4ec9-9c11-30bfed5aa3fd",
   "metadata": {},
   "source": [
    "## Cost Model Evaluation"
   ]
  },
  {
   "cell_type": "code",
   "execution_count": 13,
   "id": "6ee801a3-0b2d-4fcf-bb79-a8f245614cb4",
   "metadata": {},
   "outputs": [],
   "source": [
    "from zigzag.hardware.architecture.ImcArray import ImcArray\n",
    "from zigzag.hardware.architecture._ImcArray import _ImcArray\n",
    "from zigzag.cost_model.cost_model import CostModelEvaluation\n",
    "from zigzag.cost_model.cost_model_imc import CostModelEvaluationForIMC"
   ]
  },
  {
   "cell_type": "code",
   "execution_count": 15,
   "id": "9184e6cd-5c2a-45c0-88b4-3ae66cb7d33d",
   "metadata": {},
   "outputs": [],
   "source": [
    "#core_id = layer.core_allocation[0]\n",
    "#core = accelerator.get_core(core_id)\n",
    "operational_array = core.operational_array \n",
    "\n",
    "\n",
    "\n",
    "cme = CostModelEvaluationForIMC(\n",
    "            accelerator=accelerator,\n",
    "            layer=layer,\n",
    "            spatial_mapping=spatial_mapping,\n",
    "            spatial_mapping_int=spatial_mapping_internal,\n",
    "            temporal_mapping=temporal_mapping,\n",
    "            access_same_data_considered_as_no_access=True,\n",
    ")"
   ]
  },
  {
   "cell_type": "code",
   "execution_count": 17,
   "id": "86a73491-bf28-448e-a390-5a7d278c6d6e",
   "metadata": {},
   "outputs": [
    {
     "name": "stdout",
     "output_type": "stream",
     "text": [
      "_abc_impl: <_abc._abc_data object at 0x7f777d92b900>\n",
      "accelerator: Accelerator(aimc_toy)\n",
      "access_same_data_considered_as_no_access: True\n",
      "active_mem_level: {O: 2, W: 2, I: 2}\n",
      "allowed_mem_update_cycle: {O: [4waydatamoving (rd ^: 1, wr v: 1, rd v: 1, wr ^: 1), 4waydatamoving (rd ^: 0, wr v: 0, rd v: 1, wr ^: 1)], W: [4waydatamoving (rd ^: 0, wr v: 1, rd v: 3844, wr ^: 0), 4waydatamoving (rd ^: 0, wr v: 0, rd v: 1, wr ^: 0)], I: [4waydatamoving (rd ^: 0, wr v: 1, rd v: 1, wr ^: 0), 4waydatamoving (rd ^: 0, wr v: 0, rd v: 1, wr ^: 0)]}\n",
      "area_total: 0.4965462736\n",
      "core: Core(1)\n",
      "core_id: 1\n",
      "cumulative_core_ids: []\n",
      "cumulative_layer_ids: []\n",
      "data_loading_cc_pair_combined_per_op: {W: [1], I: [1]}\n",
      "data_loading_cc_per_op: {W: {'W0_rd_out_to_low': (1, False), 'W0_wr_in_by_high': (1, False), 'W1_rd_out_to_low': (1, True)}, I: {'I0_rd_out_to_low': (1, False), 'I0_wr_in_by_high': (1, False), 'I1_rd_out_to_low': (1, True)}}\n",
      "data_loading_cycle: 1\n",
      "data_loading_half_shared_part: {W: 1, I: 1}\n",
      "data_loading_individual_part: {W: 0, I: 0}\n",
      "data_loading_per_mem_inst: [{'r_port_1': [(W, 0, <DataDirection.RD_OUT_TO_LOW: 'rd_out_to_low'>)], 'w_port_1': [(W, 0, <DataDirection.WR_IN_BY_HIGH: 'wr_in_by_high'>)]}, {'r_port_1': [(I, 0, <DataDirection.RD_OUT_TO_LOW: 'rd_out_to_low'>)], 'w_port_1': [(I, 0, <DataDirection.WR_IN_BY_HIGH: 'wr_in_by_high'>)]}, {'r_port_1': [], 'r_port_2': [], 'w_port_1': [], 'w_port_2': []}, {'rw_port_1': [(I, 1, <DataDirection.RD_OUT_TO_LOW: 'rd_out_to_low'>), (W, 1, <DataDirection.RD_OUT_TO_LOW: 'rd_out_to_low'>)]}]\n",
      "data_loading_shared_part: {W: 0, I: 0}\n",
      "data_offloading_cc_pair_combined: [1]\n",
      "data_offloading_cycle: 1\n",
      "data_offloading_per_mem_inst: [{'r_port_1': [], 'w_port_1': []}, {'r_port_1': [], 'w_port_1': []}, {'r_port_1': [], 'r_port_2': [(O, 0, <DataDirection.RD_OUT_TO_HIGH: 'rd_out_to_high'>)], 'w_port_1': [], 'w_port_2': [(O, 0, <DataDirection.WR_IN_BY_LOW: 'wr_in_by_low'>)]}, {'rw_port_1': [(O, 1, <DataDirection.WR_IN_BY_LOW: 'wr_in_by_low'>)]}]\n",
      "data_offloading_per_op: {'O0_rd_out_to_high': 1, 'O0_wr_in_by_low': 1, 'O1_wr_in_by_low': 1}\n",
      "double_buffer_true: {O: [False, False, True], W: [False, False, True], I: [False, False, True]}\n",
      "effective_mem_utili_individual: {O: [1.0, 3.2220035791397095e-05], W: [1.0, 2.7939677238464355e-09], I: [1.0, 3.814697265625e-06]}\n",
      "effective_mem_utili_shared: {O: [1.0, 3.603752702474594e-05], W: [1.0, 3.603752702474594e-05], I: [1.0, 3.603752702474594e-05]}\n",
      "energy_total: 672272797.681224\n",
      "ideal_cycle: 3656\n",
      "ideal_temporal_cycle: 830304.0\n",
      "imc_area: 0.4965372736\n",
      "imc_area_breakdown: {'cells': 0.3844808, 'dacs': 0, 'adcs': 0, 'mults': 0.010059776, 'adders_regular': 0.0803053056, 'adders_pv': 0.0, 'accumulators': 0.021691391999999997}\n",
      "is_imc: True\n",
      "latency_total0: 1037903.0\n",
      "latency_total1: 1037904.0\n",
      "latency_total2: 1037905.0\n",
      "layer: /conv1/Conv\n",
      "mac_energy: 2691933.580224\n",
      "mac_energy_breakdown: {'local_bl_precharging': 0, 'dacs': 0, 'adcs': 0, 'mults': 1446243.434496, 'analog_bl_addition': 0, 'adders_regular': 483022.70956799993, 'adders_pv': 0.0, 'accumulators': 762667.4361599999}\n",
      "mac_spatial_utilization: 0.0044032065364011256\n",
      "mac_utilization0: 0.0035224871688394775\n",
      "mac_utilization1: 0.0035224837749926775\n",
      "mac_utilization2: 0.0035224803811524175\n",
      "mapping: <zigzag.mapping.Mapping.Mapping object at 0x7f777ce8ccd0>\n",
      "mapping_int: <zigzag.mapping.Mapping.Mapping object at 0x7f777ce91dd0>\n",
      "mem_area: 9e-06\n",
      "mem_area_breakdown: {'cells': 0, 'rf_1B': 3e-06, 'rf_2B': 6e-06, 'dram': 0}\n",
      "mem_energy: 669580864.101\n",
      "mem_energy_breakdown: {O: [78463.728, 451477800], W: [23.085, 56700], I: [13077.288, 217954800]}\n",
      "mem_energy_breakdown_further: {O: [4waydatamoving (rd ^: 19615.932, wr v: 19615.932, rd v: 19615.932, wr ^: 19615.932), 4waydatamoving (rd ^: 0, wr v: 0, rd v: 217954800, wr ^: 233523000)], W: [4waydatamoving (rd ^: 0, wr v: 23.085, rd v: 0, wr ^: 0.0), 4waydatamoving (rd ^: 0, wr v: 0, rd v: 56700, wr ^: 0)], I: [4waydatamoving (rd ^: 0.0, wr v: 6538.644, rd v: 6538.644, wr ^: 0.0), 4waydatamoving (rd ^: 0, wr v: 0, rd v: 217954800, wr ^: 0)]}\n",
      "mem_hierarchy_dict: {I2: [MemoryLevel(instance=cells,operands=[I2], served_dimensions=set()), MemoryLevel(instance=dram,operands=[I1, I2, O], served_dimensions={D2, D1})], I1: [MemoryLevel(instance=rf_1B,operands=[I1], served_dimensions={D1}), MemoryLevel(instance=dram,operands=[I1, I2, O], served_dimensions={D2, D1})], O: [MemoryLevel(instance=rf_2B,operands=[O], served_dimensions={D2}), MemoryLevel(instance=dram,operands=[I1, I2, O], served_dimensions={D2, D1})]}\n",
      "mem_level_list: [MemoryLevel(instance=cells,operands=[I2], served_dimensions=set()), MemoryLevel(instance=rf_1B,operands=[I1], served_dimensions={D1}), MemoryLevel(instance=rf_2B,operands=[O], served_dimensions={D2}), MemoryLevel(instance=dram,operands=[I1, I2, O], served_dimensions={D2, D1})]\n",
      "mem_r_bw_dict: {I2: [8, 524288], I1: [8, 524288], O: [16, 524288]}\n",
      "mem_r_bw_min_dict: {I2: [8, 524288], I1: [8, 524288], O: [16, 524288]}\n",
      "mem_sharing_list: [{I1: 1, I2: 1, O: 1}]\n",
      "mem_size_dict: {I2: [8, 8589934592], I1: [8, 8589934592], O: [16, 8589934592]}\n",
      "mem_updating_window_union_collect: [{'r_port_1': 3844, 'w_port_1': 1}, {'r_port_1': 1, 'w_port_1': 1}, {'r_port_1': 1, 'r_port_2': 1, 'w_port_1': 1, 'w_port_2': 1}, {'rw_port_1': 103788}]\n",
      "mem_utili_individual: {O: [1.0, 3.2220035791397095e-05], W: [1.0, 7.543712854385376e-08], I: [1.0, 3.814697265625e-06]}\n",
      "mem_utili_shared: {O: [1.0, 3.611017018556595e-05], W: [1.0, 3.611017018556595e-05], I: [1.0, 3.611017018556595e-05]}\n",
      "mem_w_bw_dict: {I2: [8, 524288], I1: [8, 524288], O: [16, 524288]}\n",
      "mem_w_bw_min_dict: {I2: [8, 524288], I1: [8, 524288], O: [16, 524288]}\n",
      "memory_operand_links: {'O': 'O', 'W': 'I2', 'I': 'I1'}\n",
      "memory_word_access: {O: [4waydatamoving (rd ^: 934092, wr v: 934092, rd v: 934092, wr ^: 934092), 4waydatamoving (rd ^: 0, wr v: 0, rd v: 311364, wr ^: 311364)], W: [4waydatamoving (rd ^: 0, wr v: 243, rd v: 243, wr ^: 0), 4waydatamoving (rd ^: 0, wr v: 0, rd v: 81, wr ^: 0)], I: [4waydatamoving (rd ^: 0, wr v: 311364, rd v: 311364, wr ^: 0), 4waydatamoving (rd ^: 0, wr v: 0, rd v: 311364, wr ^: 0)]}\n",
      "operational_array: <zigzag.hardware.architecture._ImcArray._ImcArray object at 0x7f777ef68810>\n",
      "port_activity_collect: [{'r_port_1': [(W, 0, <DataDirection.RD_OUT_TO_LOW: 'rd_out_to_low'>)], 'w_port_1': [(W, 0, <DataDirection.WR_IN_BY_HIGH: 'wr_in_by_high'>)]}, {'r_port_1': [(I, 0, <DataDirection.RD_OUT_TO_LOW: 'rd_out_to_low'>)], 'w_port_1': [(I, 0, <DataDirection.WR_IN_BY_HIGH: 'wr_in_by_high'>)]}, {'r_port_1': [(O, 0, <DataDirection.RD_OUT_TO_LOW: 'rd_out_to_low'>)], 'r_port_2': [(O, 0, <DataDirection.RD_OUT_TO_HIGH: 'rd_out_to_high'>)], 'w_port_1': [(O, 0, <DataDirection.WR_IN_BY_HIGH: 'wr_in_by_high'>)], 'w_port_2': [(O, 0, <DataDirection.WR_IN_BY_LOW: 'wr_in_by_low'>)]}, {'rw_port_1': [(I, 1, <DataDirection.RD_OUT_TO_LOW: 'rd_out_to_low'>), (W, 1, <DataDirection.RD_OUT_TO_LOW: 'rd_out_to_low'>), (O, 1, <DataDirection.RD_OUT_TO_LOW: 'rd_out_to_low'>), (O, 1, <DataDirection.WR_IN_BY_LOW: 'wr_in_by_low'>)]}]\n",
      "real_data_trans_cycle: {O: [4waydatamoving (rd ^: 1, wr v: 1, rd v: 1, wr ^: 1), 4waydatamoving (rd ^: 0, wr v: 0, rd v: 1, wr ^: 1)], W: [4waydatamoving (rd ^: 0, wr v: 1, rd v: 1, wr ^: 0), 4waydatamoving (rd ^: 0, wr v: 0, rd v: 1, wr ^: 0)], I: [4waydatamoving (rd ^: 0, wr v: 1, rd v: 1, wr ^: 0), 4waydatamoving (rd ^: 0, wr v: 0, rd v: 1, wr ^: 0)]}\n",
      "spatial_mapping: SpatialMapping({W: [[], [(K, 3.0)], [(C, 3.0)]], I: [[(K, 3.0)], [], [(C, 3.0)]], O: [[], [(K, 3.0)], [(C, 3.0)]]})\n",
      "spatial_mapping_dict_int: {W: [[], [(K, 3)], [(C, 3)]], I: [[(K, 3)], [], [(C, 3)]], O: [[], [(K, 3)], [(C, 3)]]}\n",
      "spatial_mapping_int: SpatialMapping({W: [[], [(K, 3)], [(C, 3)]], I: [[(K, 3)], [], [(C, 3)]], O: [[], [(K, 3)], [(C, 3)]]})\n",
      "stall_slack_comb: 207599\n",
      "stall_slack_comb_collect: [{'r_port_1': -99918, 'w_port_1': 0}, {'r_port_1': 0, 'w_port_1': 0}, {'r_port_1': 0, 'r_port_2': 0, 'w_port_1': 0, 'w_port_2': 0}, {'rw_port_1': 207599}]\n",
      "tclk: 2.7819600000000007\n",
      "tclk_breakdown: {'cells': 0, 'dacs': 0, 'adcs': 0, 'mults': 0.0478, 'adders_regular': 1.8546400000000003, 'adders_pv': 0, 'accumulators': 0.8795200000000001}\n",
      "temporal_mapping: {O: [[], [(OY, 31), (OY, 2), (OX, 62), (K, 3), (FY, 3), (FX, 3)]], W: [[(OY, 31), (OY, 2), (OX, 62)], [(K, 3), (FY, 3), (FX, 3)]], I: [[], [(OY, 31), (OY, 2), (OX, 62), (K, 3), (FY, 3), (FX, 3)]]}\n"
     ]
    }
   ],
   "source": [
    "# In CME you will now have everything you need. \n",
    "print_attributes(cme)"
   ]
  },
  {
   "cell_type": "markdown",
   "id": "e25a4400-21e4-4b0e-9f5b-c7307452fa6a",
   "metadata": {},
   "source": [
    "# Conclusion\n",
    "\n",
    "In the first part I have demonstrated everything you need to understand in order to re-implement some parts of the codebase so that Asmae's design can be seamlessly integrated. \n",
    "When you make these modifications, you can use parts of the hands-on example to run several benchmarks and extract their results "
   ]
  }
 ],
 "metadata": {
  "kernelspec": {
   "display_name": "zigzag",
   "language": "python",
   "name": "zigzag"
  },
  "language_info": {
   "codemirror_mode": {
    "name": "ipython",
    "version": 3
   },
   "file_extension": ".py",
   "mimetype": "text/x-python",
   "name": "python",
   "nbconvert_exporter": "python",
   "pygments_lexer": "ipython3",
   "version": "3.11.0rc1"
  }
 },
 "nbformat": 4,
 "nbformat_minor": 5
}
